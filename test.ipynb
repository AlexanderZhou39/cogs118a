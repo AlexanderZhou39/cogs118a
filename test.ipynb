{
 "cells": [
  {
   "cell_type": "code",
   "execution_count": 2,
   "id": "b0d68072-a945-4ece-ab3f-494c328a8aac",
   "metadata": {},
   "outputs": [],
   "source": [
    "import numpy as np\n",
    "x = np.zeros((150, 4))\n",
    "y = np.zeros((150,))\n",
    "w = np.zeros((4,))"
   ]
  },
  {
   "cell_type": "code",
   "execution_count": 3,
   "id": "73ca0d47-0bd2-41c6-ae44-ef552bfc8671",
   "metadata": {},
   "outputs": [
    {
     "data": {
      "text/plain": [
       "np.float64(0.0)"
      ]
     },
     "execution_count": 3,
     "metadata": {},
     "output_type": "execute_result"
    }
   ],
   "source": [
    "np.dot(y, np.dot(x, w) - y)"
   ]
  },
  {
   "cell_type": "code",
   "execution_count": 4,
   "id": "5d20a221-b3cb-41d7-b32e-b8fa1c709dd6",
   "metadata": {},
   "outputs": [
    {
     "data": {
      "text/plain": [
       "np.float64(0.0)"
      ]
     },
     "execution_count": 4,
     "metadata": {},
     "output_type": "execute_result"
    }
   ],
   "source": [
    "np.dot(y.T, np.dot(x, w) - y)"
   ]
  },
  {
   "cell_type": "code",
   "execution_count": 5,
   "id": "6776cfd3-6730-48ef-8db6-a667ef59be44",
   "metadata": {},
   "outputs": [
    {
     "data": {
      "text/plain": [
       "np.float64(0.0)"
      ]
     },
     "execution_count": 5,
     "metadata": {},
     "output_type": "execute_result"
    }
   ],
   "source": [
    "y.T @ (x @ w - y)"
   ]
  },
  {
   "cell_type": "code",
   "execution_count": 6,
   "id": "9dee6aa0-45dc-45e7-a432-2455692d0612",
   "metadata": {},
   "outputs": [
    {
     "data": {
      "text/plain": [
       "np.float64(0.0)"
      ]
     },
     "execution_count": 6,
     "metadata": {},
     "output_type": "execute_result"
    }
   ],
   "source": [
    "y @ (x @ w - y)"
   ]
  },
  {
   "cell_type": "code",
   "execution_count": 23,
   "id": "38578fea-ea96-4670-b2b9-86bcb62e4f20",
   "metadata": {},
   "outputs": [],
   "source": [
    "a = np.array([[33, 2], [2, 11], [4, 32], [0, 43]])\n",
    "b = np.array([6, 4])\n",
    "c = np.array([2.5, 7, 90, 33])"
   ]
  },
  {
   "cell_type": "code",
   "execution_count": 24,
   "id": "014d3946-144a-4338-86c1-ba7ccb834805",
   "metadata": {},
   "outputs": [
    {
     "data": {
      "text/plain": [
       "array([206,  56, 152, 172])"
      ]
     },
     "execution_count": 24,
     "metadata": {},
     "output_type": "execute_result"
    }
   ],
   "source": [
    "np.dot(a, b)"
   ]
  },
  {
   "cell_type": "code",
   "execution_count": 25,
   "id": "5d42406f-35e0-47c0-b933-4349db556857",
   "metadata": {},
   "outputs": [
    {
     "data": {
      "text/plain": [
       "array([206,  56, 152, 172])"
      ]
     },
     "execution_count": 25,
     "metadata": {},
     "output_type": "execute_result"
    }
   ],
   "source": [
    "a @ b"
   ]
  },
  {
   "cell_type": "code",
   "execution_count": 26,
   "id": "778b9653-8bc7-414c-ac28-ceaa7e925fe0",
   "metadata": {},
   "outputs": [
    {
     "data": {
      "text/plain": [
       "np.float64(11018.75)"
      ]
     },
     "execution_count": 26,
     "metadata": {},
     "output_type": "execute_result"
    }
   ],
   "source": [
    "np.dot(c, np.dot(a, b) - c)"
   ]
  },
  {
   "cell_type": "code",
   "execution_count": 27,
   "id": "553d5bfb-a5ca-4622-9444-245cd4a4902f",
   "metadata": {},
   "outputs": [
    {
     "data": {
      "text/plain": [
       "np.float64(11018.75)"
      ]
     },
     "execution_count": 27,
     "metadata": {},
     "output_type": "execute_result"
    }
   ],
   "source": [
    "np.dot(c.T, np.dot(a, b) - c)"
   ]
  },
  {
   "cell_type": "code",
   "execution_count": 28,
   "id": "2e164c5c-6092-4451-9624-c1472584e7f5",
   "metadata": {},
   "outputs": [
    {
     "data": {
      "text/plain": [
       "np.float64(11018.75)"
      ]
     },
     "execution_count": 28,
     "metadata": {},
     "output_type": "execute_result"
    }
   ],
   "source": [
    "c.T @ (a @ b - c)"
   ]
  },
  {
   "cell_type": "code",
   "execution_count": 29,
   "id": "903f7630-9137-4cbb-bfb0-5a40dff3ce33",
   "metadata": {},
   "outputs": [
    {
     "data": {
      "text/plain": [
       "np.float64(11018.75)"
      ]
     },
     "execution_count": 29,
     "metadata": {},
     "output_type": "execute_result"
    }
   ],
   "source": [
    "c @ (a @ b - c)"
   ]
  },
  {
   "cell_type": "code",
   "execution_count": null,
   "id": "b2eff711-070f-49f8-bf07-336a79c1f17f",
   "metadata": {},
   "outputs": [],
   "source": []
  }
 ],
 "metadata": {
  "kernelspec": {
   "display_name": "Python 3 (ipykernel)",
   "language": "python",
   "name": "python3"
  },
  "language_info": {
   "codemirror_mode": {
    "name": "ipython",
    "version": 3
   },
   "file_extension": ".py",
   "mimetype": "text/x-python",
   "name": "python",
   "nbconvert_exporter": "python",
   "pygments_lexer": "ipython3",
   "version": "3.12.5"
  }
 },
 "nbformat": 4,
 "nbformat_minor": 5
}
