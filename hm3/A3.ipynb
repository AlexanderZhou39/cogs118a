{
 "cells": [
  {
   "cell_type": "code",
   "execution_count": 1,
   "id": "3a7fac55",
   "metadata": {
    "deletable": false,
    "editable": false
   },
   "outputs": [],
   "source": [
    "# Initialize Otter\n",
    "import otter\n",
    "grader = otter.Notebook(\"A3.ipynb\")"
   ]
  },
  {
   "attachments": {},
   "cell_type": "markdown",
   "id": "6bbb4cd0",
   "metadata": {
    "nbgrader": {
     "grade": false,
     "grade_id": "cell-68f2f0ed9883b594",
     "locked": true,
     "schema_version": 3,
     "solution": false,
     "task": false
    }
   },
   "source": [
    "# Assignment 3\n",
    "\n",
    "## **Due: Oct 22th (Tuesday), 2024, 11:59pm (Pacific Time)**\n",
    "\n",
    "### **Instructions:**\n",
    "\n",
    "Your Jupyter notebook assignment will often have 3 elements: written answers, code answers, and quiz answers. For written answers, you may insert images of your handwritten work in code cells, or write your answers in markdown and LaTeX. For quiz answers, your `record.txt` file will record your answer choices in the quiz modules for submission. Both your quiz answers and code answers will be autograded on Gradescope. This assignment does not have the quiz portion.\n",
    "\n",
    "For all elements, DO NOT MODIFY THE CELLS. Put your answers **only** in the answer cells given, and **do not delete cells**. If you fail to follow these instructions, you will lose points on your submission.\n",
    "\n",
    "Make sure to show the steps of your solution for every question to receive credit, not just the final answer. You may search information online but you will need to write code/find solutions to answer the questions yourself. You will submit your .ipynb file and record.txt to gradescope when you are finished.\n",
    "\n",
    "### **Late Policy:**\n",
    "\n",
    "5% reduction for the first day and 10% reduction afterwards for every extra day past due.\n",
    "\n",
    "### How to Include Your Math Written Answer?\n",
    "\n",
    "You could use markdowns' include image functionality (recommended) or $\\LaTeX$ in markdown to submit your written responses.\n",
    "\n",
    "#### Include Images (recommended)\n",
    "If you are still getting familiar with using LaTeX, handwrite the response on paper or the stylus. Take a picture or screenshot of your answer, and include that image in the Jupyter Notebook. Be sure to include that image in the `\\imgs` directory. Let's say you have your Q1 response saved as `imgs/Q1.png`; the markdown syntax to include that image is `![Q1](imgs/Q1.png)`.\n",
    "\n",
    "#### $\\LaTeX$\n",
    "[Here is a fantastic tutorial from CalTech about using $\\LaTeX$ in Jupyter Notebook.](http://chebe163.caltech.edu/2018w/handouts/intro_to_latex.html). You could also find various $\\LaTeX$ tutorials and cheat sheets online.\n",
    "\n",
    "## Important Notice\n",
    "\n",
    "You must check both submission output on the gradescope (`Assignment 3 - Notebook` and `Assignment 3 - Manual Grading`) correctly reflects your work and responses. If you notice inconsistencies between your notebook and the Manual Grading portion, you need to make a Piazza post, and we can help you with that."
   ]
  },
  {
   "attachments": {},
   "cell_type": "markdown",
   "id": "96a206c8",
   "metadata": {},
   "source": [
    "# Question 1: Conceptual Questions\n",
    "\n",
    "Select the correct option(s). Note that there might be multiple correct options.\n",
    "\n",
    "Write your solution as a list of strings by replacing the \"...\" \n",
    "\n",
    "Ex.: `[\"A\"]` if you think the answer is A, and `[\"A\", \"C\"]` if you think the answers are A and C). "
   ]
  },
  {
   "attachments": {},
   "cell_type": "markdown",
   "id": "bf140878",
   "metadata": {
    "deletable": false,
    "editable": false
   },
   "source": [
    "## 1.1\n",
    "\n",
    "For two monotonically increasing functions f(x) and g(x):.\n",
    "\n",
    "A. $f(x) + g(x)$ is always monotonically increasing.\\\n",
    "\\\n",
    "B. $f(x) − g(x)$ is always monotonically increasing.\\\n",
    "\\\n",
    "C. $f(x^2)$ is always monotonically increasing.\\\n",
    "\\\n",
    "D. $f(x^3)$ is always monotonically increasing.\n",
    "\n",
    "_Points:_ 3"
   ]
  },
  {
   "cell_type": "code",
   "execution_count": 2,
   "id": "9fe3cfa6",
   "metadata": {
    "tags": []
   },
   "outputs": [],
   "source": [
    "q1_1 = [\"A\", \"D\"]"
   ]
  },
  {
   "cell_type": "code",
   "execution_count": 3,
   "id": "d3a99dcd",
   "metadata": {
    "deletable": false,
    "editable": false
   },
   "outputs": [
    {
     "data": {
      "text/html": [
       "<p><strong><pre style='display: inline;'>A1_1</pre></strong> passed! 🌈</p>"
      ],
      "text/plain": [
       "A1_1 results: All test cases passed!"
      ]
     },
     "execution_count": 3,
     "metadata": {},
     "output_type": "execute_result"
    }
   ],
   "source": [
    "grader.check(\"A1_1\")"
   ]
  },
  {
   "attachments": {},
   "cell_type": "markdown",
   "id": "fbcd68c0",
   "metadata": {
    "deletable": false,
    "editable": false
   },
   "source": [
    "## 1.2\n",
    "\n",
    "Which one of the following statements is true about solving the regression problem?\n",
    "\n",
    "A. Matrix inverse could be expensive for computing the closed form solution in least square estimation when the dataset consists of samples in high dimension spaces.\\\n",
    "\\\n",
    "B. The learning rate in the gradient descent algorithm should be set as large as possible to speed up the convergence.\\\n",
    "\\\n",
    "C. There exists a fixed small learning rate that works for all the gradient descent algorithms.\n",
    "\n",
    "_Points:_ 2"
   ]
  },
  {
   "cell_type": "code",
   "execution_count": 4,
   "id": "723c3781",
   "metadata": {
    "tags": []
   },
   "outputs": [],
   "source": [
    "q1_2 = [\"A\"]"
   ]
  },
  {
   "cell_type": "code",
   "execution_count": 5,
   "id": "bf8b7222",
   "metadata": {
    "deletable": false,
    "editable": false
   },
   "outputs": [
    {
     "data": {
      "text/html": [
       "<p><strong><pre style='display: inline;'>A1_2</pre></strong> passed! ✨</p>"
      ],
      "text/plain": [
       "A1_2 results: All test cases passed!"
      ]
     },
     "execution_count": 5,
     "metadata": {},
     "output_type": "execute_result"
    }
   ],
   "source": [
    "grader.check(\"A1_2\")"
   ]
  },
  {
   "attachments": {},
   "cell_type": "markdown",
   "id": "ad3e8f63",
   "metadata": {
    "deletable": false,
    "editable": false
   },
   "source": [
    "## 1.3\n",
    "\n",
    "For a function $f(x) = x(10 − x)$, $x ∈ R$, please choose the correct statement(s) below:\n",
    "\n",
    "A. $argmax_x$ $f(x) = 5$.\\\n",
    "\\\n",
    "B. $arg min_x$ $f(x) = 25$.\\\n",
    "\\\n",
    "C. $min_x$ $f(x) = 5$.\\\n",
    "\\\n",
    "D. $max_x$ $f(x) = 25$.\n",
    "\n",
    "_Points:_ 3"
   ]
  },
  {
   "cell_type": "code",
   "execution_count": 6,
   "id": "0454158b",
   "metadata": {
    "tags": []
   },
   "outputs": [],
   "source": [
    "q1_3 = [\"A\", \"D\"]"
   ]
  },
  {
   "cell_type": "code",
   "execution_count": 7,
   "id": "a9f09461",
   "metadata": {
    "deletable": false,
    "editable": false
   },
   "outputs": [
    {
     "data": {
      "text/html": [
       "<p><strong><pre style='display: inline;'>A1_3</pre></strong> passed! ✨</p>"
      ],
      "text/plain": [
       "A1_3 results: All test cases passed!"
      ]
     },
     "execution_count": 7,
     "metadata": {},
     "output_type": "execute_result"
    }
   ],
   "source": [
    "grader.check(\"A1_3\")"
   ]
  },
  {
   "attachments": {},
   "cell_type": "markdown",
   "id": "6bf5a1dd",
   "metadata": {
    "deletable": false,
    "editable": false
   },
   "source": [
    "## 1.4\n",
    "\n",
    "Assume we have a function f(x) which is differentiable at every $x ∈ R$. There are three properties that describe the function $f(x)$:\n",
    "\n",
    "(1) $f(x)$ is a convex function.\\\n",
    "(2) When $x = x_0$, $\\frac{df(x_0)}{dx} = 0$.\\\n",
    "(3) $f(x_0)$ is a global minimum of $f(x)$.\\\n",
    "\\\n",
    "Which one of the following statements is **wrong**?\\\n",
    "\\\n",
    "**Hint**: You can use a failure case to disprove a statement.\n",
    "\\\n",
    "\\\n",
    "A. Given (1) and (2), we can prove that (3) holds.\\\n",
    "\\\n",
    "B. Given (2) and (3), we can prove that (1) holds.\\\n",
    "\\\n",
    "C. Given (1) and (3), we can prove that (2) holds.\n",
    "\n",
    "_Points:_ 3"
   ]
  },
  {
   "cell_type": "code",
   "execution_count": 8,
   "id": "f1df682b",
   "metadata": {
    "tags": []
   },
   "outputs": [],
   "source": [
    "q1_4 = [\"B\"]"
   ]
  },
  {
   "cell_type": "code",
   "execution_count": 9,
   "id": "bbbc93cf",
   "metadata": {
    "deletable": false,
    "editable": false
   },
   "outputs": [
    {
     "data": {
      "text/html": [
       "<p><strong><pre style='display: inline;'>A1_4</pre></strong> passed! 🎉</p>"
      ],
      "text/plain": [
       "A1_4 results: All test cases passed!"
      ]
     },
     "execution_count": 9,
     "metadata": {},
     "output_type": "execute_result"
    }
   ],
   "source": [
    "grader.check(\"A1_4\")"
   ]
  },
  {
   "attachments": {},
   "cell_type": "markdown",
   "id": "f377b484",
   "metadata": {
    "deletable": false,
    "editable": false
   },
   "source": [
    "## 1.5\n",
    "\n",
    "Is the following statement true or false? Given any classifier with known parameters $w$ and $b$, its decision boundary is always fully decided.\\\n",
    "\\\n",
    "A. True \\\n",
    "\\\n",
    "B. False\n",
    "\n",
    "_Points:_ 2"
   ]
  },
  {
   "cell_type": "code",
   "execution_count": 10,
   "id": "c6d6270c",
   "metadata": {
    "tags": []
   },
   "outputs": [],
   "source": [
    "q1_5 = [\"A\"]"
   ]
  },
  {
   "cell_type": "code",
   "execution_count": 11,
   "id": "90956a66",
   "metadata": {
    "deletable": false,
    "editable": false
   },
   "outputs": [
    {
     "data": {
      "text/html": [
       "<p><strong><pre style='display: inline;'>A1_5</pre></strong> passed! 🚀</p>"
      ],
      "text/plain": [
       "A1_5 results: All test cases passed!"
      ]
     },
     "execution_count": 11,
     "metadata": {},
     "output_type": "execute_result"
    }
   ],
   "source": [
    "grader.check(\"A1_5\")"
   ]
  },
  {
   "attachments": {},
   "cell_type": "markdown",
   "id": "c76476c7",
   "metadata": {
    "deletable": false,
    "editable": false
   },
   "source": [
    "## 1.6\n",
    "\n",
    "Is the following statement true or false? Given a linear classifier $y = \\text{sign}(wx + b)$, if the decision boundary is given, then its parameters $w$ and $b$ can be fully decided.\\\n",
    "\\\n",
    "A. True \\\n",
    "\\\n",
    "B. False\n",
    "\n",
    "_Points:_ 2"
   ]
  },
  {
   "cell_type": "code",
   "execution_count": 12,
   "id": "603f5158",
   "metadata": {
    "tags": []
   },
   "outputs": [],
   "source": [
    "q1_6 = [\"B\"]"
   ]
  },
  {
   "cell_type": "code",
   "execution_count": 13,
   "id": "9222595b",
   "metadata": {
    "deletable": false,
    "editable": false
   },
   "outputs": [
    {
     "data": {
      "text/html": [
       "<p><strong><pre style='display: inline;'>A1_6</pre></strong> passed! 🌈</p>"
      ],
      "text/plain": [
       "A1_6 results: All test cases passed!"
      ]
     },
     "execution_count": 13,
     "metadata": {},
     "output_type": "execute_result"
    }
   ],
   "source": [
    "grader.check(\"A1_6\")"
   ]
  },
  {
   "attachments": {},
   "cell_type": "markdown",
   "id": "49d8676f",
   "metadata": {
    "deletable": false,
    "editable": false
   },
   "source": [
    "## Question 2 Convex\n",
    "\n",
    "Identify the convexity for the following six functions (a-f)\n",
    "\n",
    "<img src=\"imgs/convex.png\" width=\"40%\" />\n",
    "\n",
    "Write your solution as a list of strings by replacing the `...` \n",
    "\n",
    "Ex.: `q2_convex = [\"a\", \"b\", \"c\"]`; `q2_non_convex = [\"d\", \"e\", \"f\"]` if you think functions (a), (b), (c) are convex and (d), (e), (f) are non-convex.\n",
    "\n",
    "_Points:_ 4"
   ]
  },
  {
   "cell_type": "code",
   "execution_count": 14,
   "id": "c405bb0e",
   "metadata": {
    "tags": []
   },
   "outputs": [],
   "source": [
    "q2_convex = [\"a\", \"c\"]"
   ]
  },
  {
   "cell_type": "code",
   "execution_count": 15,
   "id": "7114567b",
   "metadata": {
    "tags": []
   },
   "outputs": [],
   "source": [
    "q2_non_convex = [\"b\", \"d\", \"e\", \"f\"]"
   ]
  },
  {
   "cell_type": "code",
   "execution_count": 16,
   "id": "77a8b456",
   "metadata": {
    "deletable": false,
    "editable": false
   },
   "outputs": [
    {
     "data": {
      "text/html": [
       "<p><strong><pre style='display: inline;'>A2</pre></strong> passed! 🙌</p>"
      ],
      "text/plain": [
       "A2 results: All test cases passed!"
      ]
     },
     "execution_count": 16,
     "metadata": {},
     "output_type": "execute_result"
    }
   ],
   "source": [
    "grader.check(\"A2\")"
   ]
  },
  {
   "attachments": {},
   "cell_type": "markdown",
   "id": "19f72630",
   "metadata": {
    "deletable": false,
    "editable": false
   },
   "source": [
    "<!-- BEGIN QUESTION -->\n",
    "\n",
    "## Question 3 Argmin and Argmax\n",
    "\n",
    "An unknown estimator is given an estimation problem to find the minimizer and maximizer of the objective function $G(w) ∈ (0, 2]$:\n",
    "\n",
    "$$(w_a, w_b) = (\\text{argmin}_w \\text{ } G(w), \\text{argmax}_w \\text{ }G(w))$$\n",
    "\n",
    "The solution to Eq. 1 by the estimator is $(w_a, w_b) = (10, 20)$.\n",
    "\n",
    "Given this information, please obtain the value of $w*$ such that:\n",
    "\n",
    "$$ w* = \\text{argmin}_w [10 - 4 * \\text{ln}(G(w))]$$\n",
    "\\\n",
    "you may insert images of your handwritten work in code cells, or write your answers in markdown and LaTeX.\n",
    "\n",
    "_Points:_ 4"
   ]
  },
  {
   "cell_type": "markdown",
   "id": "1739d5b7",
   "metadata": {},
   "source": [
    "Graphing the expression, we can visually see that $10-4 \\ln(G(w))$ is always decreasing for $G(w) \\in (0, \\infty)$, which makes sense since $\\ln$ is an always increasing function.\n",
    "\n",
    "This implies that the greatest value of $G(w)$ would lead to the smallest value of $10-4 \\ln(G(w))$, which further implies that $G(w_b)$ would lead to the smallest value of $10-4 \\ln(G(w))$.\n",
    "\n",
    "Since $w* = \\text{argmin}_w[10 - 4 \\ln(G(w))]$, \n",
    "\n",
    "$w* = \\text{argmax}_w \\text{ } G(w) = w_b = 20$"
   ]
  },
  {
   "attachments": {},
   "cell_type": "markdown",
   "id": "ad311897",
   "metadata": {
    "deletable": false,
    "editable": false
   },
   "source": [
    "<!-- END QUESTION -->\n",
    "\n",
    "## Question 4 Decision Stump\n",
    "\n",
    "In this problem, we will perform a binary classification task on a modified Iris dataset. This modified Iris dataset has 2 classes and it is split into a training set $S_\\text{training}$ with 100 data points and a test set $S_\\text{test}$ with 50 data points. Each data point $(\\mathbf{x},y)$ has a feature vector $\\mathbf{x} \\in \\mathbb{R}^4$ and its corresponding label $y \\in \\{0, 1\\}$.\n",
    "\n",
    "(In fact, the original Iris dataset has 3 classes: 0 for Setosa, 1 for Versicolor and 2 for Virginica. Here for binary classification task, we combine Setosa and Versicolor together as $y = -1$ and label Virginca as $y = 1$)\n",
    "\n",
    "Here we utilize a decision stump to solve the above binary classification task. The decision stump works as follows (for simplicity, we restrict our attention to uni-directional decision stumps):\n",
    "\n",
    "- Given the feature vector $\\mathbf{x}$, the feature index $j$, and a threshold $Th$, the classification function is defined by $y=f(\\mathbf{x}, j, Th)$ as:\n",
    "$$\n",
    "f({\\bf x}, j, Th)=\n",
    "\\begin{cases}\n",
    "1 & if \\; {\\bf x}(j) \\geq Th \\\\\n",
    "-1 & otherwise.\n",
    "\\end{cases} \n",
    "$$\n",
    "where $\\mathbf{x}(j)$ refers to the $j$-th feature in $\\mathbf{x}$.\n",
    "- The error $e$ on dataset $S=\\{(\\mathbf{x}_i,y_i)\\}$ is defined as:\n",
    "    $$e = \\frac{1}{n}\\sum_{i=1}^n\\mathbf{1}\\big(y_i \\neq f(\\mathbf{x}_i,j,Th)\\big)$$\n",
    "    where $n=|S|$ is the size of the dataset $S$. Thus, we can obtain training error $e_\\text{training}$ on training set $S_\\text{training}$, and test error $e_\\text{test}$ on test set $S_\\text{test}$.\n",
    "    \n",
    "Based on the decision stump above, we wish to use an algorithm to find the \n",
    "**best feature index $j^*$** and **best threshold $Th^*$** on training set to create a \"best\" decision stump, in a sense that such decision stump can achieve the **lowest training error** $e_\\text{training}^*$.\n",
    "\n",
    "Algorithm:\n",
    "- Initialize $e_\\text{training}^*=1$\n",
    "- for $j$ = 0, 1, 2, 3:\n",
    "   - for threshold $Th$ = min($\\mathbf{x}(j)$), ..., max($\\mathbf{x}(j)$):\n",
    "       - Calculate $e_\\text{training}$\n",
    "       - If $e_\\text{training}$ < $e_\\text{training}^*$, then:\n",
    "           - $j*=j$\n",
    "           - $Th^*=Th$\n",
    "           - $e_\\text{training}^*=e_\\text{training}$\n",
    "\n",
    "- Output best feature index $j^*$, best threshold $Th^*$, lowest training error $e_\\text{training}^*$ and calculate its corresponding test error $e_\\text{test}^*$.\n",
    "\n",
    "### Question 4.1\n",
    "\n",
    "Please complete the following code (you should only insert your code in the `...` part) to implement the decision stump algorithm above.\n",
    "\n",
    "_Points:_ 16"
   ]
  },
  {
   "cell_type": "code",
   "execution_count": 17,
   "id": "7d70e502",
   "metadata": {
    "deletable": false,
    "editable": false
   },
   "outputs": [],
   "source": [
    "%config InlineBackend.figure_format = 'retina'\n",
    "import numpy as np\n",
    "import matplotlib.pyplot as plt\n",
    "from sklearn import datasets"
   ]
  },
  {
   "cell_type": "code",
   "execution_count": 18,
   "id": "856076a3",
   "metadata": {
    "deletable": false,
    "editable": false
   },
   "outputs": [
    {
     "name": "stdout",
     "output_type": "stream",
     "text": [
      "(150, 4)\n",
      "(150, 1)\n",
      "[ 5.8  4.   1.2  0.2 -1. ]\n"
     ]
    }
   ],
   "source": [
    "# Iris dataset.\n",
    "iris = datasets.load_iris()     # Load Iris dataset.\n",
    "\n",
    "X = iris.data                   # The shape of X is (150, 4), which means\n",
    "                                # there are 150 data points, each data point\n",
    "                                # has 4 features.\n",
    "\n",
    "# Here for convenience, we divide the 3 kinds of flowers into 2 groups: \n",
    "#     Y = -1 :  Setosa (original value 0) / Versicolor (original value 1)\n",
    "#     Y = 1 :   Virginica (original value 2)\n",
    "\n",
    "# Thus we use (iris.target > 1.5) to divide the targets into 2 groups. \n",
    "# This line of code will assign:\n",
    "#    Y_ori[i] = True  (which is equivalent to 1) if iris.target[k]  > 1.5 (Virginica)\n",
    "#    Y_ori[i] = False (which is equivalent to -1) if iris.target[k] <= 1.5 (Setosa / Versicolor)\n",
    "\n",
    "Y_ori = (iris.target > 1.5).reshape(-1,1) # The shape of Y is (150, 1), which means \n",
    "                                # there are 150 data points, each data point\n",
    "                                # has 1 target value. \n",
    "\n",
    "# We then convert True and False in Y_ori\n",
    "# to 1 and -1 in Y:\n",
    "Y = np.zeros((150, 1))\n",
    "Y[Y_ori == True] = 1\n",
    "Y[Y_ori == False] = -1\n",
    "\n",
    "X_and_Y = np.hstack((X, Y))     # Stack them together for shuffling.\n",
    "np.random.seed(1)               # Set the random seed.\n",
    "np.random.shuffle(X_and_Y)      # Shuffle the data points in X_and_Y array\n",
    "\n",
    "print(X.shape)\n",
    "print(Y.shape)\n",
    "print(X_and_Y[0])               # The result should be always: [ 5.8  4.   1.2  0.2  -1. ]"
   ]
  },
  {
   "cell_type": "code",
   "execution_count": 19,
   "id": "180aab51",
   "metadata": {
    "deletable": false,
    "editable": false
   },
   "outputs": [
    {
     "name": "stdout",
     "output_type": "stream",
     "text": [
      "(100, 4)\n",
      "(100,)\n",
      "(50, 4)\n",
      "(50,)\n"
     ]
    }
   ],
   "source": [
    "# Divide the data points into training set and test set.\n",
    "X_shuffled = X_and_Y[:,:4]\n",
    "Y_shuffled = X_and_Y[:,4]\n",
    "\n",
    "X_train = X_shuffled[:100] # Shape: (100,4)\n",
    "Y_train = Y_shuffled[:100] # Shape: (100,)\n",
    "X_test = X_shuffled[100:]  # Shape: (50,4)\n",
    "Y_test = Y_shuffled[100:]  # Shape: (50,)\n",
    "print(X_train.shape)\n",
    "print(Y_train.shape)\n",
    "print(X_test.shape)\n",
    "print(Y_test.shape)"
   ]
  },
  {
   "cell_type": "code",
   "execution_count": 20,
   "id": "808520d6",
   "metadata": {
    "tags": []
   },
   "outputs": [
    {
     "name": "stdout",
     "output_type": "stream",
     "text": [
      "Optimal: j*=3, Th*=1.70, e_training*=0.010, e_test*=0.100\n"
     ]
    }
   ],
   "source": [
    "def judge(a, b):\n",
    "    \"\"\"\n",
    "    Judge function: 1(a != b).\n",
    "    Return 1 if a != b, otherwise return 0.\n",
    "    \"\"\"\n",
    "    if a != b:\n",
    "        return 1\n",
    "    return 0\n",
    "    \n",
    "\n",
    "def f_decision_stump(x, j, Th):\n",
    "    \"\"\"\n",
    "    Decision stump classifier: f(x, j, Th)\n",
    "    This function should return -1 or 1.\n",
    "    \"\"\"\n",
    "    if x[j] >= Th:\n",
    "        return 1\n",
    "    return -1\n",
    "    \n",
    "    \n",
    "# Calculate error given feature vectors X and labels Y.\n",
    "def calc_error(X, Y, j, Th):\n",
    "    e = 0\n",
    "    n = len(Y)\n",
    "    \n",
    "    for (xi, yi) in zip(X, Y):\n",
    "        # Hint: Use judge() and f_decision_stump()\n",
    "        e += judge(\n",
    "            f_decision_stump(xi, j, Th),\n",
    "            yi\n",
    "        )\n",
    "    \n",
    "    # Hint: remember we want the average error.\n",
    "    e = e / n\n",
    "    return e\n",
    "    \n",
    "# Main algorithm.\n",
    "opt_e_training = 1.0\n",
    "opt_j = -1\n",
    "opt_Th = -1\n",
    "for j in [0,1,2,3]:\n",
    "    for Th in np.arange(X_train[:, j].min(), X_train[:, j].max(), 0.05):\n",
    "        e_training = calc_error(X_train, Y_train, j, Th)\n",
    "        if e_training < opt_e_training:\n",
    "            # Hint: update best j, Th, and lowest training error here.\n",
    "            opt_e_training = e_training\n",
    "            opt_j = j\n",
    "            opt_Th = Th\n",
    "            \n",
    "print('Optimal: j*={}, Th*={:.2f}, e_training*={:.3f}, e_test*={:.3f}'.format(\n",
    "      opt_j, opt_Th, opt_e_training, \n",
    "      calc_error(X_test, Y_test, opt_j, opt_Th)))"
   ]
  },
  {
   "cell_type": "code",
   "execution_count": 21,
   "id": "c9dd7706",
   "metadata": {
    "deletable": false,
    "editable": false
   },
   "outputs": [
    {
     "data": {
      "text/html": [
       "<p><strong><pre style='display: inline;'>A4_code</pre></strong> passed! 💯</p>"
      ],
      "text/plain": [
       "A4_code results: All test cases passed!"
      ]
     },
     "execution_count": 21,
     "metadata": {},
     "output_type": "execute_result"
    }
   ],
   "source": [
    "grader.check(\"A4_code\")"
   ]
  },
  {
   "cell_type": "markdown",
   "id": "9271919b",
   "metadata": {
    "deletable": false,
    "editable": false
   },
   "source": [
    "<!-- BEGIN QUESTION -->\n",
    "\n",
    "### Question 4.2\n",
    "\n",
    "Show the histograms of each feature and draw a line for best decision stump. Beside the line please show a text of lowest training error. You may use `'e_training*: {}'` as the string template.\n",
    "\n",
    "_Points:_ 4"
   ]
  },
  {
   "cell_type": "code",
   "execution_count": 36,
   "id": "6a051c8d",
   "metadata": {
    "tags": []
   },
   "outputs": [
    {
     "data": {
      "image/png": "[encoded data removed]",
      "text/plain": [
       "<Figure size 1200x800 with 4 Axes>"
      ]
     },
     "metadata": {
      "image/png": {
       "height": 679,
       "width": 1002
      }
     },
     "output_type": "display_data"
    }
   ],
   "source": [
    "plt.figure(figsize=(12,8))\n",
    "for j in range(4):\n",
    "    Xj_train = X_train[:,j]\n",
    "    Xj_when_Y0_train = [Xj_train[i] for i in range(len(Xj_train)) if Y_train[i] == -1]\n",
    "    Xj_when_Y1_train = [Xj_train[i] for i in range(len(Xj_train)) if Y_train[i] == 1]\n",
    "\n",
    "    plt.subplot(2, 2, j+1)\n",
    "    plt.hist(Xj_when_Y0_train, label='Feature {}, Y=-1'.format(j))\n",
    "    plt.hist(Xj_when_Y1_train, label='Feature {}, Y=1'.format(j))\n",
    "    plt.xlabel('Feature {}: {}'.format(j, iris.feature_names[j]))\n",
    "    plt.ylabel('Frequency')\n",
    "    plt.legend()\n",
    "    \n",
    "    if j == opt_j:\n",
    "        # Hint: use plt.plot() and plt.text() to plot the vertical line and text.\n",
    "        plt.axvline(x=opt_Th, color='r', label=f'e_training*:{opt_e_training}')\n",
    "        plt.text(opt_Th + 0.1, 14, f'e_training*: {opt_e_training}')\n",
    "    \n",
    "plt.show()"
   ]
  },
  {
   "attachments": {},
   "cell_type": "markdown",
   "id": "5630b26b",
   "metadata": {
    "deletable": false,
    "editable": false
   },
   "source": [
    "<!-- END QUESTION -->\n",
    "\n",
    "# End of A3"
   ]
  },
  {
   "cell_type": "markdown",
   "id": "f680572f",
   "metadata": {
    "deletable": false,
    "editable": false
   },
   "source": [
    "## Submission\n",
    "\n",
    "Make sure you have run all cells in your notebook in order before running the cell below, so that all images/graphs appear in the output. The cell below will generate a zip file for you to submit.\n",
    "\n",
    "Please make sure to see the output of the gradescope autograder. You are responsible for waiting and ensuring that the autograder is executing normally for your submission. Please create a Piazza post if you see errors in autograder execution."
   ]
  },
  {
   "cell_type": "code",
   "execution_count": 37,
   "id": "499b446a",
   "metadata": {
    "deletable": false,
    "editable": false
   },
   "outputs": [
    {
     "data": {
      "application/javascript": [
       "\n",
       "            if (typeof Jupyter !== 'undefined') {\n",
       "                Jupyter.notebook.save_checkpoint();\n",
       "            }\n",
       "        "
      ],
      "text/plain": [
       "<IPython.core.display.Javascript object>"
      ]
     },
     "metadata": {},
     "output_type": "display_data"
    },
    {
     "name": "stdout",
     "output_type": "stream",
     "text": [
      "Running your submission against local test cases...\n",
      "\n",
      "\n",
      "Your submission received the following results when run against available test cases:\n",
      "\n",
      "    A1_1 results: All test cases passed!\n",
      "\n",
      "    A1_2 results: All test cases passed!\n",
      "\n",
      "    A1_3 results: All test cases passed!\n",
      "\n",
      "    A1_4 results: All test cases passed!\n",
      "\n",
      "    A1_5 results: All test cases passed!\n",
      "\n",
      "    A1_6 results: All test cases passed!\n",
      "\n",
      "    A2 results: All test cases passed!\n",
      "\n",
      "    A4_code results: All test cases passed!\n"
     ]
    },
    {
     "data": {
      "text/html": [
       "\n",
       "                    <p>\n",
       "                        Your submission has been exported. Click\n",
       "                        <a href=\"A3_2024_10_22T17_30_04_179649.zip\" download=\"A3_2024_10_22T17_30_04_179649.zip\" target=\"_blank\">here</a> to download\n",
       "                        the zip file.\n",
       "                    </p>\n",
       "                "
      ],
      "text/plain": [
       "<IPython.core.display.HTML object>"
      ]
     },
     "metadata": {},
     "output_type": "display_data"
    }
   ],
   "source": [
    "grader.export(pdf=False, force_save=True, run_tests=True, files=['imgs', 'requirements.txt'])"
   ]
  },
  {
   "cell_type": "markdown",
   "id": "658f4ecd",
   "metadata": {},
   "source": [
    " "
   ]
  }
 ],
 "metadata": {
  "celltoolbar": "Raw Cell Format",
  "kernelspec": {
   "display_name": "Python 3 (ipykernel)",
   "language": "python",
   "name": "python3"
  },
  "language_info": {
   "codemirror_mode": {
    "name": "ipython",
    "version": 3
   },
   "file_extension": ".py",
   "mimetype": "text/x-python",
   "name": "python",
   "nbconvert_exporter": "python",
   "pygments_lexer": "ipython3",
   "version": "3.12.5"
  },
  "otter": {
   "OK_FORMAT": false,
   "tests": {
    "A1_1": "from otter.test_files import test_case\n\nOK_FORMAT = False\n\nname = \"A1_1\"\npoints = 3\n\n@test_case(points=0, hidden=False)\n# sanity check\ndef q1_1_sanity_check(q1_1):\n    all_options = [\"A\", \"B\", \"C\", \"D\"]\n    check_valid = lambda ans, all_options: all([chosen in all_options for chosen in ans])\n    assert check_valid(q1_1, all_options), \"Is your answer within the option of A/B/C/D?\"\n",
    "A1_2": "from otter.test_files import test_case\n\nOK_FORMAT = False\n\nname = \"A1_2\"\npoints = 2\n\n@test_case(points=0, hidden=False)\n# sanity check\ndef q1_2_sanity_check(q1_2):\n    all_options = [\"A\", \"B\", \"C\", \"D\"]\n    check_valid = lambda ans, all_options: all([chosen in all_options for chosen in ans])\n    assert check_valid(q1_2, all_options), \"Is your answer within the option of A/B/C/D?\"\n",
    "A1_3": "from otter.test_files import test_case\n\nOK_FORMAT = False\n\nname = \"A1_3\"\npoints = 3\n\n@test_case(points=0, hidden=False)\ndef q1_3_sanity_check(q1_3):\n    # sanity check\n    all_options = [\"A\", \"B\", \"C\", \"D\"]\n    check_valid = lambda ans, all_options: all([chosen in all_options for chosen in ans])\n    assert check_valid(q1_3, all_options), \"Is your answer within the option of A/B/C/D?\"\n",
    "A1_4": "from otter.test_files import test_case\n\nOK_FORMAT = False\n\nname = \"A1_4\"\npoints = 3\n\n@test_case(points=0, hidden=False)\ndef q1_4_sanity_check(q1_4):\n    # sanity check\n    all_options = [\"A\", \"B\", \"C\", \"D\"]\n    check_valid = lambda ans, all_options: all([chosen in all_options for chosen in ans])\n    assert check_valid(q1_4, all_options), \"Is your answer within the option of A/B/C/D?\"\n",
    "A1_5": "from otter.test_files import test_case\n\nOK_FORMAT = False\n\nname = \"A1_5\"\npoints = 2\n\n@test_case(points=0, hidden=False)\ndef q1_5_sanity_check(q1_5):\n    # sanity check\n    all_options = [\"A\", \"B\", \"C\", \"D\"]\n    check_valid = lambda ans, all_options: all([chosen in all_options for chosen in ans])\n    assert check_valid(q1_5, all_options), \"Is your answer within the option of A/B/C/D?\"\n",
    "A1_6": "from otter.test_files import test_case\n\nOK_FORMAT = False\n\nname = \"A1_6\"\npoints = 2\n\n@test_case(points=0, hidden=False)\ndef q1_6_sanity_check(q1_6):\n    # sanity check\n    all_options = [\"A\", \"B\", \"C\", \"D\"]\n    check_valid = lambda ans, all_options: all([chosen in all_options for chosen in ans])\n    assert check_valid(q1_6, all_options), \"Is your answer within the option of A/B/C/D?\"\n",
    "A2": "from otter.test_files import test_case\n\nOK_FORMAT = False\n\nname = \"A2\"\npoints = 4\n\n@test_case(points=0, hidden=False)\n# sanity check\ndef q2_sanity_check(q2_convex, q2_non_convex):\n    all_options = [\"a\", \"b\", \"c\", \"d\", \"e\", \"f\"]\n    check_valid = lambda ans, all_options: all([chosen in all_options for chosen in ans])\n    assert check_valid(q2_convex, all_options), \"Is your answer within the option of a/b/c/d/e/f?\"\n    assert check_valid(q2_non_convex, all_options), \"Is your answer within the option of a/b/c/d/e/f?\"\n",
    "A4_code": "from otter.test_files import test_case\n\nOK_FORMAT = False\n\nname = \"A4_code\"\npoints = 16\n\n@test_case(points=1, hidden=False)\n# HIDDEN\ndef q4_judge_neq(judge):\n    import random\n    a, b = random.sample(range(100), 2)\n    assert judge(a, b) == 1, \"Incorrect judge, expect judge(a, b)==1 when a!=b\"\n@test_case(points=1, hidden=False)\n# HIDDEN\ndef q4_judge_eq(judge):\n    import random\n    a = random.randint(0, 100)\n    assert judge(a, a) == 0, \"Incorrect judge, expect judge(a, b)==0 when a==b\"\n@test_case(points=1, hidden=False)\n# HIDDEN\ndef q4_f_decision_stump_check_1(f_decision_stump):\n    import random\n    x = [random.randint(0, 100) for _ in range(4)]\n    j = random.randint(0, 3)\n    Th = random.randint(0, 100)\n    assert f_decision_stump(x, j, Th) in [-1, 1], \"Incorrect f_decision_stump, expect -1 or 1\"\n@test_case(points=1, hidden=False)\n# HIDDEN\ndef q4_f_decision_stump_check_2(np, f_decision_stump):\n    _X = np.array([0.69906527, 0.90659185, 0.70079379, 0.2294394])\n    _res = np.ones(len(_X))\n    _th = 0.70079379\n    _res[_X < _th] = -1\n    assert all([f_decision_stump(_X, i, _th) == _res[i] for i in range(len(_X))])\n"
   }
  }
 },
 "nbformat": 4,
 "nbformat_minor": 5
}
