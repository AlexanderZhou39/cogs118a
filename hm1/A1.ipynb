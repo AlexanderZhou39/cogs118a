{
 "cells": [
  {
   "cell_type": "code",
   "execution_count": 1,
   "id": "7cb6bfef",
   "metadata": {
    "deletable": false,
    "editable": false
   },
   "outputs": [],
   "source": [
    "# Initialize Otter\n",
    "import otter\n",
    "grader = otter.Notebook(\"A1.ipynb\")"
   ]
  },
  {
   "cell_type": "markdown",
   "id": "6bbb4cd0",
   "metadata": {
    "nbgrader": {
     "grade": false,
     "grade_id": "cell-68f2f0ed9883b594",
     "locked": true,
     "schema_version": 3,
     "solution": false,
     "task": false
    }
   },
   "source": [
    "# Assignment 1\n",
    "\n",
    "\n",
    "## **Due: Oct 4th (Friday), 2024, 11:59pm (Pacific Time)**\n",
    "\n",
    "### **Instructions:**\n",
    "\n",
    "Your Jupyter notebook assignment will often have 3 elements: written answers, code answers, and quiz answers. For written answers, you may insert images of your handwritten work in code cells, or write your answers in markdown and LaTeX. For quiz answers, your `record.txt` file will record your answer choices in the quiz modules for submission. Both your quiz answers and code answers will be autograded on Gradescope. This assignment does not have the quiz portion.\n",
    "\n",
    "For all elements, DO NOT MODIFY THE CELLS. Put your answers **only** in the answer cells given, and **do not delete cells**. If you fail to follow these instructions, you will lose points on your submission.\n",
    "\n",
    "You may use `print` to debug the output but remember to delete them as they may interfere with the autograder.\n",
    "\n",
    "Make sure to show the steps of your solution for every question to receive credit, not just the final answer. You may search information online but you will need to write code/find solutions to answer the questions yourself. You will submit your .ipynb file and record.txt to gradescope when you are finished.\n",
    "\n",
    "### **Late Policy:**\n",
    "\n",
    "5% reduction for the first day and 10% reduction afterwards for every extra day past due.\n",
    "\n",
    "### How to Include Your Math Written Answer?\n",
    "\n",
    "You could use inline $\\LaTeX$ in markdown (recommended) or use markdowns' include image functionality to submit your written responses.\n",
    "\n",
    "#### $\\LaTeX$ (recommended)\n",
    "[Here is a fantastic tutorial from CalTech about using $\\LaTeX$ in Jupyter Notebook.](http://chebe163.caltech.edu/2018w/handouts/intro_to_latex.html). You could also find various $\\LaTeX$ tutorials and cheat sheets online.\n",
    "\n",
    "#### Include Images\n",
    "If you are still getting familiar with using LaTeX, handwrite the response on paper or the stylus. Take a picture or screenshot of your answer, and include that image in the Jupyter Notebook. Be sure to include that image in the provided `imgs` directory. Let's say you have your Q1 response saved as `imgs/Q1.png`; the markdown syntax to include that image is `![Q1](imgs/Q1.png)`.\n",
    "\n",
    "## Important Notice\n",
    "\n",
    "You must check both submission output on the gradescope (`Assignment 1 - Notebook` and `Assignment 1 - Manual Grading`) correctly reflects your work and responses. If you notice inconsistencies between your notebook and the Manual Grading portion, you need to make a Piazza post, and we can help you with that."
   ]
  },
  {
   "cell_type": "markdown",
   "id": "96a206c8",
   "metadata": {
    "deletable": false,
    "editable": false
   },
   "source": [
    "<!-- BEGIN QUESTION -->\n",
    "\n",
    "## Question 1: Basic Calculus\n",
    "\n",
    "### 1.1 Derivatives with Scalars\n",
    "1. $f(x) = 2\\lambda - 3e^{10 \\lambda x}$, where $\\lambda$ is a constant, derive $\\frac{\\partial f(x)}{\\partial x}$.\n",
    "\n",
    "2. $f(x) = 9\\ln (7 + 4e^x)$, derive  $\\frac{\\partial f(x)}{\\partial x}$\n",
    "\n",
    "Show your work.\n",
    "\n",
    "_Points:_ 10"
   ]
  },
  {
   "cell_type": "markdown",
   "id": "096dd632",
   "metadata": {},
   "source": [
    "### 1. \n",
    "$$\n",
    "\\begin{aligned}\n",
    "f(x) &= 2 \\lambda - 3 e^{10 \\lambda x} \\\\\\\\\n",
    "\\frac{\\partial f(x)}{\\partial x} &= 0 - 3e^{10 \\lambda x} * 10 \\lambda \\\\\\\\\n",
    "\\frac{\\partial f(x)}{\\partial x} &= -30 \\lambda e^{10 \\lambda x}\n",
    "\\end{aligned}\n",
    "$$\n",
    "\n",
    "### 2.\n",
    "$$\n",
    "\\begin{aligned}\n",
    "f(x) &= 9 \\ln(7 + 4e^x) \\\\\\\\\n",
    "\\frac{\\partial f(x)}{\\partial x} &= 9 (7 + 4e^x)^{-1} * 4e^x \\\\\\\\\n",
    "\\frac{\\partial f(x)}{\\partial x} &= \\frac{36e^x}{7 + 4e^x}\n",
    "\\end{aligned}\n",
    "$$"
   ]
  },
  {
   "cell_type": "markdown",
   "id": "c88cbf4d",
   "metadata": {
    "deletable": false,
    "editable": false
   },
   "source": [
    "<!-- END QUESTION -->\n",
    "\n",
    "<!-- BEGIN QUESTION -->\n",
    "\n",
    "## Question 2: Solving Linear Equations\n",
    "\n",
    "Given a system of linear equations:\n",
    "\n",
    "$$\n",
    "\\begin{cases}\n",
    "-3 w_1 + 4 w_2 & = 10 \\\\\n",
    "w_1 - 2 w_2 & = -4\n",
    "\\end{cases}\n",
    "$$\n",
    "\n",
    "a) Solve for $(w_1, w_2)$.\n",
    "\n",
    "b) Once you obtain $(w_1, w_2)$ in Part a, please calculate final result $y$ from $y = w_1x_1 + w_2x_2$ when $(x_1, x_2) = (3, -2)$.\n",
    "\n",
    "\n",
    "Show your work.\n",
    "\n",
    "_Points:_ 10"
   ]
  },
  {
   "cell_type": "markdown",
   "id": "dde2fd60",
   "metadata": {},
   "source": [
    "### a)\n",
    "$$\n",
    "\\begin{aligned}\n",
    "\\text{solve for $w_1$ using equation 1} \\\\\\\\\n",
    "-3w_1 + 4w_2 &= 10 \\\\\\\\\n",
    "w_1 &= \\frac{10 - 4w_2}{-3} \\\\\\\\\n",
    "w_1 &= \\frac{4w_2 - 10}{3} \\\\\\\\\n",
    "\\text{substitute into equation 2} \\\\\\\\\n",
    "\\frac{4w_2 - 10}{3} - 2w_2 &= -4 \\\\\\\\\n",
    "\\frac{-2}{3}w_2 - \\frac{10}{3} &= -4 \\\\\\\\\n",
    "-2w_2 - 10 &= -12 \\\\\\\\\n",
    "-2w_2 &= -2 \\\\\\\\\n",
    "w_2 &= 1 \\\\\\\\\n",
    "\\text{solve for $w_1$} \\\\\\\\\n",
    "w_1 &= \\frac{4w_2 - 10}{3} \\\\\\\\\n",
    "w_1 &= \\frac{4 - 10}{3} \\\\\\\\\n",
    "w_1 &= -2 \\\\\\\\\n",
    "\\text{result:} \\\\\\\\\n",
    "w_1 &= -2 \\\\\\\\\n",
    "w_2 &= 1\n",
    "\\end{aligned}\n",
    "$$\n",
    "\n",
    "### b)\n",
    "$$\n",
    "\\begin{aligned}\n",
    "\\text{solve for y} \\\\\\\\\n",
    "y &= w_1 x_1 + w_2 x_2 \\\\\\\\\n",
    "y &= -2 * 3 + 1 * -2 &\\text{substitute values} \\\\\\\\\n",
    "y &= -6 + -2 \\\\\\\\\n",
    "y &= -8\n",
    "\\end{aligned}\n",
    "$$"
   ]
  },
  {
   "cell_type": "markdown",
   "id": "c0593540",
   "metadata": {
    "deletable": false,
    "editable": false
   },
   "source": [
    "<!-- END QUESTION -->\n",
    "\n",
    "## Question 3: One-Hot Encoding\n",
    "\n",
    "A dataset $S$ is denoted as $S=\\{{\\bf x}_1,{\\bf x}_2,{\\bf x}_3,{\\bf x}_4,{\\bf x}_5 \\}$, where each sample refers to the specification of a car.\n",
    "\n",
    "Represent this dataset $S$ using a matrix. Show your result in the code cell below. The result variable should be named as `S`. \n",
    "\n",
    "**Hint**: \n",
    "1. For the categorical features, you may use the one-hot encoding strategy.\n",
    "2. We expect each data sample to be a row in the matrix, and therefore the shape of the resulting matrix should be $5\\times9$.\n",
    "3. We expect features to be placed in the order of `Length`, `Height`, `Make_Toyota`, `Make_BMW`, `Make_Ford`, `Color_Blue`, `Color_Silver`, `Color_Red`, `Color_Black`.\n",
    "4. To avoid issues with autograder, please only use integers in your matrix.\n",
    "\n",
    "\n",
    "|          | Length (inch) | Height (inch) | Make   | Color  |\n",
    "|----------|----------------|----------------|--------|--------|\n",
    "| ${\\bf x}_1$ | 183            | 62             | Toyota | Blue   |\n",
    "| ${\\bf x}_2$ | 181            | 65             | BMW    | Silver |\n",
    "| ${\\bf x}_3$ | 182            | 59             | BMW    | Red    |\n",
    "| ${\\bf x}_4$ | 179            | 68             | Ford   | Blue   |\n",
    "| ${\\bf x}_5$ | 182            | 53             | Toyota | Black  |\n",
    "\n",
    "\n",
    "_Points:_ 10"
   ]
  },
  {
   "cell_type": "code",
   "execution_count": 2,
   "id": "bbc0062c",
   "metadata": {
    "tags": []
   },
   "outputs": [],
   "source": [
    "S = [\n",
    "    # A row looks like this:\n",
    "    # [X, X, X, X, X, X, X, X, X] where X is an integer\n",
    "    [183, 62, 1, 0, 0, 1, 0, 0, 0],\n",
    "    [181, 65, 0, 1, 0, 0, 1, 0, 0],\n",
    "    [182, 59, 0, 1, 0, 0, 0, 1, 0],\n",
    "    [179, 68, 0, 0, 1, 1, 0, 0, 0],\n",
    "    [182, 53, 1, 0, 0, 0, 0, 0, 1]\n",
    "]"
   ]
  },
  {
   "cell_type": "code",
   "execution_count": 3,
   "id": "2ba16110",
   "metadata": {
    "deletable": false,
    "editable": false
   },
   "outputs": [
    {
     "data": {
      "text/html": [
       "<p><strong><pre style='display: inline;'>One-hot encoding</pre></strong> passed! 🚀</p>"
      ],
      "text/plain": [
       "One-hot encoding results: All test cases passed!"
      ]
     },
     "execution_count": 3,
     "metadata": {},
     "output_type": "execute_result"
    }
   ],
   "source": [
    "grader.check(\"One-hot encoding\")"
   ]
  },
  {
   "cell_type": "markdown",
   "id": "6b1d7809",
   "metadata": {
    "deletable": false,
    "editable": false
   },
   "source": [
    "## Question 4: Basic NumPy Operations\n",
    "\n",
    "Suppose $\\mathbf{a} = \\begin{bmatrix} 2 \\\\ 1 \\\\ 7 \\end{bmatrix}$, $\\mathbf{b}=\\begin{bmatrix} -2 \\\\ 7 \\\\ -5 \\end{bmatrix}$; $A=\\begin{bmatrix} 2 & 4 \\\\ 1 & 3 \\\\ 7 & 9 \\end{bmatrix}$, $B=\\begin{bmatrix} 2 & -2 \\\\ -3 & 7 \\\\ 6 & -5\\end{bmatrix}$.\n",
    "\n",
    "### Question 4.1\n",
    "\n",
    "We provide the following codes to convert $\\mathbf{a}, \\mathbf{b}$ into `NumPy` arrays. You can use the same method to convert $\\mathbf{A}, \\mathbf{B}$ into `NumPy` arrays. Please name your variable as `A` and `B` respectively. (Please make sure your `A` and `B` are actually `NumPy` arrays, as we do perform type checking such as `isinstance(A, ...)`.)\n",
    "\n",
    "Note:\n",
    "1. In NumPy, both column vector and row vector are represented as 1-D array.\n",
    "\n",
    "2. `np.dot(A,B)` or `A.dot(B)` in `NumPy` package computes the dot product between matrices `A` and `B` (Strictly speaking, it is equivalent to matrix multiplication for 2-D arrays, and inner product of vectors for 1-D arrays).\n",
    "\n",
    "3. In `NumPy`, binary operators such as `*`, `/`, `+` and `-` compute the element-wise operations between two matrices\n",
    "\n",
    "4. In the following problems, “$\\circ$” operator means element-wise product or Hadamard product for matrices and vectors. “$\\cdot$” operator means inner product for vectors.\n",
    "\n",
    "_Points:_ 4"
   ]
  },
  {
   "cell_type": "code",
   "execution_count": 4,
   "id": "a231e25e",
   "metadata": {
    "tags": []
   },
   "outputs": [],
   "source": [
    "import numpy as np\n",
    "a = np.array([2, 1, 7])\n",
    "b = np.array([-2, 7, -5])\n",
    "\n",
    "A = np.array([\n",
    "    [2, 4],\n",
    "    [1, 3],\n",
    "    [7, 9]\n",
    "])\n",
    "B = np.array([\n",
    "    [2, -2],\n",
    "    [-3, 7],\n",
    "    [6, -5]\n",
    "])"
   ]
  },
  {
   "cell_type": "code",
   "execution_count": 5,
   "id": "95330714",
   "metadata": {
    "deletable": false,
    "editable": false
   },
   "outputs": [
    {
     "data": {
      "text/html": [
       "<p><strong><pre style='display: inline;'>Numpy 1</pre></strong> passed! 💯</p>"
      ],
      "text/plain": [
       "Numpy 1 results: All test cases passed!"
      ]
     },
     "execution_count": 5,
     "metadata": {},
     "output_type": "execute_result"
    }
   ],
   "source": [
    "grader.check(\"Numpy 1\")"
   ]
  },
  {
   "cell_type": "markdown",
   "id": "1ce84445",
   "metadata": {
    "deletable": false,
    "editable": false
   },
   "source": [
    "### Question 4.2\n",
    "Finish the functions to calculate the following items with `NumPy`.\n",
    "\n",
    "1. $\\mathbf{a} \\circ \\mathbf{b}$ (`vector_elementwise_product`. Hint: the result has the same shape as `a` or `b`)\n",
    "\n",
    "2. $\\mathbf{a} \\cdot \\mathbf{b}$ (`vector_dot_product`)\n",
    "\n",
    "Your implementation should work for **any vectors** with compatible dimensions.\n",
    "\n",
    "_Points:_ 8"
   ]
  },
  {
   "cell_type": "code",
   "execution_count": 7,
   "id": "ad24338e",
   "metadata": {
    "tags": []
   },
   "outputs": [],
   "source": [
    "def vector_elementwise_product(a, b):\n",
    "    result = a * b\n",
    "    return result\n",
    "\n",
    "output_1 = vector_elementwise_product(a, b)\n",
    "\n",
    "def vector_dot_product(a, b):\n",
    "    result = np.dot(a, b)\n",
    "    return result\n",
    "\n",
    "output_2 = vector_dot_product(a, b)"
   ]
  },
  {
   "cell_type": "markdown",
   "id": "36e36430",
   "metadata": {
    "deletable": false,
    "editable": false
   },
   "source": [
    "### Question 4.3\n",
    "Calculate the following items with `NumPy` by completing the functions.\n",
    "\n",
    "1. $C=A \\circ B$ (`matrix_elementwise_product`)\n",
    "\n",
    "2. $D=A^\\top B$ (`matrix_a_transpose_multiply_b`)\n",
    "\n",
    "3. $E=A B^\\top$ (`matrix_a_multiply_b_transpose`)\n",
    "\n",
    "Your implementation should work for **any matrices** with compatible dimensions.\n",
    "\n",
    "_Points:_ 12"
   ]
  },
  {
   "cell_type": "code",
   "execution_count": 13,
   "id": "0789718c",
   "metadata": {
    "tags": []
   },
   "outputs": [],
   "source": [
    "def matrix_elementwise_product(A, B):\n",
    "    result = A * B\n",
    "    return result\n",
    "\n",
    "output_1 = matrix_elementwise_product(A, B)\n",
    "\n",
    "def matrix_a_transpose_multiply_b(A, B):\n",
    "    result = np.matmul(A.T, B)\n",
    "    return result\n",
    "\n",
    "output_2 = matrix_a_transpose_multiply_b(A, B)\n",
    "\n",
    "def matrix_a_multiply_b_transpose(A, B):\n",
    "    result = np.matmul(A, B.T)\n",
    "    return result\n",
    "\n",
    "output_3 = matrix_a_multiply_b_transpose(A, B)"
   ]
  },
  {
   "cell_type": "markdown",
   "id": "5211c746",
   "metadata": {
    "deletable": false,
    "editable": false
   },
   "source": [
    "### Question 4.4\n",
    "\n",
    "We can concatenate the columns of $A$ and $B$ to make a new array, as\n",
    "$$\n",
    "C = \\begin{bmatrix} A \\; | \\; B \\end{bmatrix} = \\begin{bmatrix} 2 & 4 & 2 & -2 \\\\ 1 & 3 & -3 & 7 \\\\ 7 & 9 & 6 & -5 \\end{bmatrix}\n",
    "$$\n",
    "\n",
    "Complete the following function `concatenate_columns` to concatenate the columns of two matrices (they have the same number of rows). \n",
    "\n",
    "Your implementation should be able to handle **arbitrary matrices** that are compatible.\n",
    "\n",
    "Hint: You may want to use `np.concatenate`.\n",
    "\n",
    "_Points:_ 6"
   ]
  },
  {
   "cell_type": "code",
   "execution_count": 17,
   "id": "5865573e",
   "metadata": {
    "tags": []
   },
   "outputs": [],
   "source": [
    "def concatenate_columns(A, B):\n",
    "    \"\"\"\n",
    "    Concatenate two matrices together (column-wise).\n",
    "    \n",
    "    >>> A = np.array([[1, 2], [3, 4]])\n",
    "    >>> B = np.array([[5], [6]])\n",
    "    >>> concatenate_columns(A, B)\n",
    "    array([[1, 2, 5],\n",
    "           [3, 4, 6]])\n",
    "    \"\"\"\n",
    "    result = np.concatenate([A, B], axis=1)\n",
    "    return result"
   ]
  },
  {
   "cell_type": "markdown",
   "id": "af2edd64",
   "metadata": {
    "deletable": false,
    "editable": false
   },
   "source": [
    "<!-- BEGIN QUESTION -->\n",
    "\n",
    "## Question 5: Basic Plots Using Matplotlib\n",
    "\n",
    "Matplotlib is a very useful library to plot graphs. Later in the course, you may need to plot your own graphs in your report such as: loss vs. iteration, accuracy vs. category. We will start with a simple exercise.\n",
    "\n",
    "This code creates a graph with the original sine curve and another curve where 5 iterations of Gaussian noise (0 mean, 0.1 standard deviation) are added to the original sine curve."
   ]
  },
  {
   "cell_type": "code",
   "execution_count": 18,
   "id": "8032a6c3",
   "metadata": {
    "deletable": false,
    "editable": false
   },
   "outputs": [
    {
     "data": {
      "image/png": "[encoded data removed]",
      "text/plain": [
       "<Figure size 640x480 with 1 Axes>"
      ]
     },
     "metadata": {},
     "output_type": "display_data"
    }
   ],
   "source": [
    "%matplotlib inline\n",
    "import numpy as np\n",
    "import matplotlib.pyplot as plt\n",
    "\n",
    "np.random.seed(0)\n",
    "space = np.linspace(0, 10, num = 50)\n",
    "sine = np.sin(space)\n",
    "sine_5 = sine\n",
    "\n",
    "for i in range(5):\n",
    "    sine_5 = sine_5 + np.random.normal(scale = 0.1, size = 50)\n",
    "    \n",
    "plt.scatter(space, sine, color = 'b', label = 'sine curve')\n",
    "plt.plot(space, sine_5, color = 'r', label = 'noise_5_iters')\n",
    "plt.legend(loc = 'upper right')\n",
    "plt.show()"
   ]
  },
  {
   "cell_type": "markdown",
   "id": "af2ca839",
   "metadata": {
    "deletable": false,
    "editable": false
   },
   "source": [
    "In the cell below, copy the approach above but add two new curves to the plot. Each should have a different color to distinguish it from the other curves. The new curves will add 20 and 100 iterations of Gaussian noise (0 mean, 0.1 standard deviation) onto the original sine curve. Plot the two new curves you obtained as well as the curve from the original code. The legend should label the new curves as noise 20 iters and noise 100 iters. Report your code and the final plot: one figure with four differently colored curves (original, 5 iters, 20 iters, 100 iters).\n",
    "\n",
    "_Points:_ 10"
   ]
  },
  {
   "cell_type": "code",
   "execution_count": 20,
   "id": "06ca0032",
   "metadata": {
    "tags": []
   },
   "outputs": [
    {
     "data": {
      "image/png": "[encoded data removed]",
      "text/plain": [
       "<Figure size 640x480 with 1 Axes>"
      ]
     },
     "metadata": {},
     "output_type": "display_data"
    }
   ],
   "source": [
    "import numpy as np\n",
    "import matplotlib.pyplot as plt\n",
    "np.random.seed(0)\n",
    "space = np.linspace(0, 10, num = 50)\n",
    "sine = np.sin(space)\n",
    "\n",
    "sine_5 = sine\n",
    "sine_20 = sine\n",
    "sine_100 = sine\n",
    "\n",
    "for i in range(5):\n",
    "    sine_5 = sine_5 + np.random.normal(scale = 0.1, size = 50)\n",
    "\n",
    "for i in range(20):\n",
    "    sine_20 = sine_20 + np.random.normal(scale = 0.1, size = 50)\n",
    "\n",
    "for i in range(100):\n",
    "    sine_100 = sine_100 + np.random.normal(scale = 0.1, size = 50)\n",
    "    \n",
    "plt.scatter(space, sine, color = 'b', label = 'sine curve')\n",
    "plt.plot(space, sine_5, color = 'r', label = 'noise_5_iters')\n",
    "plt.plot(space, sine_20, color = 'y', label = 'noise_20_iters')\n",
    "plt.plot(space, sine_100, color = 'g', label = 'noise_100_iters')\n",
    "plt.legend(loc = 'upper right')\n",
    "plt.show()"
   ]
  },
  {
   "cell_type": "markdown",
   "id": "4c66d0b5",
   "metadata": {
    "deletable": false,
    "editable": false
   },
   "source": [
    "<!-- END QUESTION -->\n",
    "\n",
    "## Question 6: Data Manipulation\n",
    "\n",
    "In this question, we are going to utilize `NumPy` library to manipulate the data from the Iris dataset.\n",
    "\n",
    "For all the questions, please refrain from manually writing the loops. They can always be solved by calling the appropriate functions in the `NumPy` library.\n"
   ]
  },
  {
   "cell_type": "code",
   "execution_count": 21,
   "id": "d15e6e4b",
   "metadata": {
    "deletable": false,
    "editable": false
   },
   "outputs": [],
   "source": [
    "from sklearn import datasets\n",
    "\n",
    "# Load Iris Dataset\n",
    "iris = datasets.load_iris()\n",
    "X = iris.data\n",
    "Y = iris.target"
   ]
  },
  {
   "cell_type": "markdown",
   "id": "498e0a51",
   "metadata": {
    "deletable": false,
    "editable": false
   },
   "source": [
    "Some useful instructions are shown below:\n",
    "\n",
    "- Get a row or a column of the array X"
   ]
  },
  {
   "cell_type": "code",
   "execution_count": 22,
   "id": "5b90f28e",
   "metadata": {
    "deletable": false,
    "editable": false
   },
   "outputs": [
    {
     "name": "stdout",
     "output_type": "stream",
     "text": [
      "[5.1 3.5 1.4 0.2]\n",
      "[5.1 4.9 4.7 4.6 5.  5.4 4.6 5.  4.4 4.9 5.4 4.8 4.8 4.3 5.8 5.7 5.4 5.1\n",
      " 5.7 5.1 5.4 5.1 4.6 5.1 4.8 5.  5.  5.2 5.2 4.7 4.8 5.4 5.2 5.5 4.9 5.\n",
      " 5.5 4.9 4.4 5.1 5.  4.5 4.4 5.  5.1 4.8 5.1 4.6 5.3 5.  7.  6.4 6.9 5.5\n",
      " 6.5 5.7 6.3 4.9 6.6 5.2 5.  5.9 6.  6.1 5.6 6.7 5.6 5.8 6.2 5.6 5.9 6.1\n",
      " 6.3 6.1 6.4 6.6 6.8 6.7 6.  5.7 5.5 5.5 5.8 6.  5.4 6.  6.7 6.3 5.6 5.5\n",
      " 5.5 6.1 5.8 5.  5.6 5.7 5.7 6.2 5.1 5.7 6.3 5.8 7.1 6.3 6.5 7.6 4.9 7.3\n",
      " 6.7 7.2 6.5 6.4 6.8 5.7 5.8 6.4 6.5 7.7 7.7 6.  6.9 5.6 7.7 6.3 6.7 7.2\n",
      " 6.2 6.1 6.4 7.2 7.4 7.9 6.4 6.3 6.1 7.7 6.3 6.4 6.  6.9 6.7 6.9 5.8 6.8\n",
      " 6.7 6.7 6.3 6.5 6.2 5.9]\n"
     ]
    }
   ],
   "source": [
    "print(X[0]) # Print the first row of array X.\n",
    "print(X[:, 0]) # Print the first column of array X.\n",
    "# ':' here means all rows and '0' means column 0."
   ]
  },
  {
   "cell_type": "markdown",
   "id": "a50c96e3",
   "metadata": {
    "deletable": false,
    "editable": false
   },
   "source": [
    "- Get part of the array"
   ]
  },
  {
   "cell_type": "code",
   "execution_count": 23,
   "id": "eb1acd9c",
   "metadata": {
    "deletable": false,
    "editable": false
   },
   "outputs": [
    {
     "name": "stdout",
     "output_type": "stream",
     "text": [
      "[[3.1 1.5]\n",
      " [3.6 1.4]]\n",
      "[[5.1 3.5]\n",
      " [4.9 3. ]\n",
      " [4.7 3.2]]\n"
     ]
    }
   ],
   "source": [
    "print(X[3:5, 1:3]) # Print 4th and 5th rows, 2nd and 3rd columns.\n",
    "print(X[:3, :2]) # Print first 3 rows, first 2 columns."
   ]
  },
  {
   "cell_type": "markdown",
   "id": "86d3b521",
   "metadata": {
    "deletable": false,
    "editable": false
   },
   "source": [
    "### Question 6.1 \n",
    "Get the first 2 features of the first 5 data points (i.e. first 2 columns and first 5 rows) of array X.\n",
    "\n",
    "_Points:_ 4"
   ]
  },
  {
   "cell_type": "code",
   "execution_count": 29,
   "id": "1cd8d8a1",
   "metadata": {
    "tags": []
   },
   "outputs": [
    {
     "data": {
      "text/plain": [
       "array([[5.1, 3.5],\n",
       "       [4.9, 3. ],\n",
       "       [4.7, 3.2],\n",
       "       [4.6, 3.1],\n",
       "       [5. , 3.6]])"
      ]
     },
     "execution_count": 29,
     "metadata": {},
     "output_type": "execute_result"
    }
   ],
   "source": [
    "def q1(array):\n",
    "    array = array[:5, :2]\n",
    "    return array\n",
    "q1(X)"
   ]
  },
  {
   "cell_type": "markdown",
   "id": "77b2387d",
   "metadata": {
    "deletable": false,
    "editable": false
   },
   "source": [
    "### Question 6.2\n",
    "Calculate the mean and the variance of the 2nd feature (the 2nd column) of array X.\n",
    "\n",
    "_Points:_ 8"
   ]
  },
  {
   "cell_type": "code",
   "execution_count": 27,
   "id": "5b3de4d9",
   "metadata": {
    "tags": []
   },
   "outputs": [
    {
     "data": {
      "text/plain": [
       "(np.float64(3.0573333333333337), np.float64(0.1887128888888889))"
      ]
     },
     "execution_count": 27,
     "metadata": {},
     "output_type": "execute_result"
    }
   ],
   "source": [
    "def q2(array):\n",
    "    mean = array[:, 1].mean()\n",
    "    var = array[:, 1].var()\n",
    "    return mean, var\n",
    "q2(X)"
   ]
  },
  {
   "cell_type": "markdown",
   "id": "9c6db9b4",
   "metadata": {
    "deletable": false,
    "editable": false
   },
   "source": [
    "### Question 6.3\n",
    " Perform a linear projection on the 1st 3 features of all data points using the weight vector $\\mathbf w$, where $\\mathbf w = (3, 2, 1)$. You can do so by calculating a dot product between the 1st 3 features of all data points and the weight vector $\\mathbf w$. The shape of projected data points should be (150, 1) or (150,), depending on the weight vector is regarded as a matrix or a vector. Calculate the mean of the projected data points.\n",
    " \n",
    " Hint: You can calculate the projection with a single line code using np.dot, but you should be careful with the dimension matching for the dot product.\n",
    "\n",
    "_Points:_ 4"
   ]
  },
  {
   "cell_type": "code",
   "execution_count": 30,
   "id": "6bd5bef5",
   "metadata": {
    "deletable": false,
    "editable": false
   },
   "outputs": [],
   "source": [
    "w = np.array([3,2,1])"
   ]
  },
  {
   "cell_type": "code",
   "execution_count": 37,
   "id": "f6a45e76",
   "metadata": {
    "tags": []
   },
   "outputs": [
    {
     "data": {
      "text/plain": [
       "np.float64(27.402666666666665)"
      ]
     },
     "execution_count": 37,
     "metadata": {},
     "output_type": "execute_result"
    }
   ],
   "source": [
    "def q3(array, projection_vector):\n",
    "    mean = np.dot(projection_vector, array[:, :3].T).mean()\n",
    "    return mean\n",
    "q3(X, w)"
   ]
  },
  {
   "cell_type": "markdown",
   "id": "bd972425",
   "metadata": {
    "deletable": false,
    "editable": false
   },
   "source": [
    " ### Question 6.4\n",
    " Randomly sample 3 data points (rows) of array X by randomly choosing the row indices. Return the sampled data points.\n",
    "\n",
    "Hint: np.random.randint\n",
    "\n",
    "_Points:_ 4"
   ]
  },
  {
   "cell_type": "code",
   "execution_count": 42,
   "id": "7afe6fcb",
   "metadata": {
    "tags": []
   },
   "outputs": [
    {
     "data": {
      "text/plain": [
       "array([[4.8, 3.1, 1.6, 0.2],\n",
       "       [5.8, 2.7, 4.1, 1. ],\n",
       "       [5. , 2.3, 3.3, 1. ]])"
      ]
     },
     "execution_count": 42,
     "metadata": {},
     "output_type": "execute_result"
    }
   ],
   "source": [
    "def q4(array):\n",
    "    indices = np.random.randint(low=0, high=len(array), size=3)\n",
    "    matrix = array[indices]\n",
    "    return matrix\n",
    "q4(X)"
   ]
  },
  {
   "cell_type": "markdown",
   "id": "31522131",
   "metadata": {
    "deletable": false,
    "editable": false
   },
   "source": [
    "### Question 6.5\n",
    "Add one more feature (one more column) to the array X after the last feature. The values of the added feature for all data points are constant 1. Return the first data point (first row) of the new array.\n",
    "\n",
    "Hint: np.ones, np.hstack\n",
    "\n",
    "_Points:_ 5"
   ]
  },
  {
   "cell_type": "code",
   "execution_count": 46,
   "id": "127ff986",
   "metadata": {
    "tags": []
   },
   "outputs": [
    {
     "data": {
      "text/plain": [
       "array([[5.1, 3.5, 1.4, 0.2, 1. ]])"
      ]
     },
     "execution_count": 46,
     "metadata": {},
     "output_type": "execute_result"
    }
   ],
   "source": [
    "def q5(array):\n",
    "    row = np.hstack((array, np.ones((len(array), 1))))[:1]\n",
    "    return row\n",
    "q5(X)"
   ]
  },
  {
   "cell_type": "markdown",
   "id": "d26af9cd",
   "metadata": {
    "deletable": false,
    "editable": false
   },
   "source": [
    "### Question 6.6\n",
    "Add one more data point (one more row) to the array X after the last data point. The value of the added data point is the same as the first data point. Return the first feature (first column) of the new array.\n",
    "\n",
    "Hint: `np.vstack`\n",
    "\n",
    "_Points:_ 5"
   ]
  },
  {
   "cell_type": "code",
   "execution_count": 48,
   "id": "be89360e",
   "metadata": {
    "tags": []
   },
   "outputs": [
    {
     "data": {
      "text/plain": [
       "array([5.1, 4.9, 4.7, 4.6, 5. , 5.4, 4.6, 5. , 4.4, 4.9, 5.4, 4.8, 4.8,\n",
       "       4.3, 5.8, 5.7, 5.4, 5.1, 5.7, 5.1, 5.4, 5.1, 4.6, 5.1, 4.8, 5. ,\n",
       "       5. , 5.2, 5.2, 4.7, 4.8, 5.4, 5.2, 5.5, 4.9, 5. , 5.5, 4.9, 4.4,\n",
       "       5.1, 5. , 4.5, 4.4, 5. , 5.1, 4.8, 5.1, 4.6, 5.3, 5. , 7. , 6.4,\n",
       "       6.9, 5.5, 6.5, 5.7, 6.3, 4.9, 6.6, 5.2, 5. , 5.9, 6. , 6.1, 5.6,\n",
       "       6.7, 5.6, 5.8, 6.2, 5.6, 5.9, 6.1, 6.3, 6.1, 6.4, 6.6, 6.8, 6.7,\n",
       "       6. , 5.7, 5.5, 5.5, 5.8, 6. , 5.4, 6. , 6.7, 6.3, 5.6, 5.5, 5.5,\n",
       "       6.1, 5.8, 5. , 5.6, 5.7, 5.7, 6.2, 5.1, 5.7, 6.3, 5.8, 7.1, 6.3,\n",
       "       6.5, 7.6, 4.9, 7.3, 6.7, 7.2, 6.5, 6.4, 6.8, 5.7, 5.8, 6.4, 6.5,\n",
       "       7.7, 7.7, 6. , 6.9, 5.6, 7.7, 6.3, 6.7, 7.2, 6.2, 6.1, 6.4, 7.2,\n",
       "       7.4, 7.9, 6.4, 6.3, 6.1, 7.7, 6.3, 6.4, 6. , 6.9, 6.7, 6.9, 5.8,\n",
       "       6.8, 6.7, 6.7, 6.3, 6.5, 6.2, 5.9, 5.1])"
      ]
     },
     "execution_count": 48,
     "metadata": {},
     "output_type": "execute_result"
    }
   ],
   "source": [
    "def q6(array):\n",
    "    matrix = np.vstack((array, array[0]))[:, 0]\n",
    "    return matrix\n",
    "q6(X)"
   ]
  },
  {
   "cell_type": "markdown",
   "id": "5ceeb6df",
   "metadata": {},
   "source": [
    "# End of A1"
   ]
  },
  {
   "cell_type": "markdown",
   "id": "08d4ce84",
   "metadata": {
    "deletable": false,
    "editable": false
   },
   "source": [
    "## Submission\n",
    "\n",
    "Make sure you have run all cells in your notebook in order before running the cell below, so that all images/graphs appear in the output. The cell below will generate a zip file for you to submit.\n",
    "\n",
    "Please make sure to see the output of the gradescope autograder. You are responsible for waiting and ensuring that the autograder is executing normally for your submission. Please create a Piazza post if you see errors in autograder execution."
   ]
  },
  {
   "cell_type": "code",
   "execution_count": 50,
   "id": "071241a5",
   "metadata": {
    "deletable": false,
    "editable": false
   },
   "outputs": [
    {
     "data": {
      "application/javascript": [
       "\n",
       "            if (typeof Jupyter !== 'undefined') {\n",
       "                Jupyter.notebook.save_checkpoint();\n",
       "            }\n",
       "        "
      ],
      "text/plain": [
       "<IPython.core.display.Javascript object>"
      ]
     },
     "metadata": {},
     "output_type": "display_data"
    },
    {
     "name": "stdout",
     "output_type": "stream",
     "text": [
      "Running your submission against local test cases...\n",
      "\n",
      "\n",
      "Your submission received the following results when run against available test cases:\n",
      "\n",
      "    One-hot encoding results: All test cases passed!\n",
      "\n",
      "    Numpy 1 results: All test cases passed!\n"
     ]
    },
    {
     "data": {
      "text/html": [
       "\n",
       "                    <p>\n",
       "                        Your submission has been exported. Click\n",
       "                        <a href=\"A1_2024_10_02T19_32_33_788450.zip\" download=\"A1_2024_10_02T19_32_33_788450.zip\" target=\"_blank\">here</a> to download\n",
       "                        the zip file.\n",
       "                    </p>\n",
       "                "
      ],
      "text/plain": [
       "<IPython.core.display.HTML object>"
      ]
     },
     "metadata": {},
     "output_type": "display_data"
    }
   ],
   "source": [
    "grader.export(pdf=False, force_save=True, run_tests=True, files=['imgs', 'requirements.txt'])"
   ]
  },
  {
   "cell_type": "markdown",
   "id": "cdef82d5",
   "metadata": {},
   "source": [
    " "
   ]
  }
 ],
 "metadata": {
  "celltoolbar": "Raw Cell Format",
  "kernelspec": {
   "display_name": "Python 3 (ipykernel)",
   "language": "python",
   "name": "python3"
  },
  "language_info": {
   "codemirror_mode": {
    "name": "ipython",
    "version": 3
   },
   "file_extension": ".py",
   "mimetype": "text/x-python",
   "name": "python",
   "nbconvert_exporter": "python",
   "pygments_lexer": "ipython3",
   "version": "3.12.5"
  },
  "otter": {
   "OK_FORMAT": false,
   "tests": {
    "Data manipulation - 1": "from otter.test_files import test_case\n\nOK_FORMAT = False\n\nname = \"Data manipulation - 1\"\npoints = 4\n\n",
    "Data manipulation - 2": "from otter.test_files import test_case\n\nOK_FORMAT = False\n\nname = \"Data manipulation - 2\"\npoints = 8\n\n",
    "Data manipulation - 3": "from otter.test_files import test_case\n\nOK_FORMAT = False\n\nname = \"Data manipulation - 3\"\npoints = 4\n\n",
    "Data manipulation - 4": "from otter.test_files import test_case\n\nOK_FORMAT = False\n\nname = \"Data manipulation - 4\"\npoints = 4\n\n",
    "Data manipulation - 5": "from otter.test_files import test_case\n\nOK_FORMAT = False\n\nname = \"Data manipulation - 5\"\npoints = 5\n\n",
    "Data manipulation - 6": "from otter.test_files import test_case\n\nOK_FORMAT = False\n\nname = \"Data manipulation - 6\"\npoints = 5\n\n",
    "Numpy 1": "from otter.test_files import test_case\n\nOK_FORMAT = False\n\nname = \"Numpy 1\"\npoints = 4\n\n@test_case(points=0, hidden=False)\n# sanity check\ndef q4_1_sanity_check(env):\n    has_variable = lambda name: name in env\n    assert has_variable(\"A\"), \"Did you create a variable named A?\"\n    assert has_variable(\"B\"), \"Did you create a variable named B?\"\n",
    "Numpy 2": "from otter.test_files import test_case\n\nOK_FORMAT = False\n\nname = \"Numpy 2\"\npoints = 8\n\n",
    "Numpy 3": "from otter.test_files import test_case\n\nOK_FORMAT = False\n\nname = \"Numpy 3\"\npoints = 12\n\n",
    "Numpy 4": "from otter.test_files import test_case\n\nOK_FORMAT = False\n\nname = \"Numpy 4\"\npoints = 6\n\n",
    "One-hot encoding": "from otter.test_files import test_case\n\nOK_FORMAT = False\n\nname = \"One-hot encoding\"\npoints = 10\n\n@test_case(points=0, hidden=False)\n# sanity check\ndef q3_sanity_check(S):\n    assert len(S) == 5, \"The result should have 5 rows\"\n    for row in S:\n        assert len(row) == 9, \"Each row should have 9 columns\"\n"
   }
  }
 },
 "nbformat": 4,
 "nbformat_minor": 5
}
